{
 "cells": [
  {
   "cell_type": "code",
   "execution_count": 1,
   "metadata": {},
   "outputs": [],
   "source": [
    "import pandas as pd"
   ]
  },
  {
   "cell_type": "code",
   "execution_count": 2,
   "metadata": {},
   "outputs": [],
   "source": [
    "result = pd.read_csv(\"calonefactor2013.csv\")"
   ]
  },
  {
   "cell_type": "code",
   "execution_count": 9,
   "metadata": {},
   "outputs": [
    {
     "data": {
      "text/html": [
       "<div>\n",
       "<style scoped>\n",
       "    .dataframe tbody tr th:only-of-type {\n",
       "        vertical-align: middle;\n",
       "    }\n",
       "\n",
       "    .dataframe tbody tr th {\n",
       "        vertical-align: top;\n",
       "    }\n",
       "\n",
       "    .dataframe thead th {\n",
       "        text-align: right;\n",
       "    }\n",
       "</style>\n",
       "<table border=\"1\" class=\"dataframe\">\n",
       "  <thead>\n",
       "    <tr style=\"text-align: right;\">\n",
       "      <th></th>\n",
       "      <th>Unnamed: 0</th>\n",
       "      <th>0</th>\n",
       "      <th>1</th>\n",
       "      <th>2</th>\n",
       "      <th>3</th>\n",
       "      <th>4</th>\n",
       "      <th>5</th>\n",
       "      <th>6</th>\n",
       "      <th>7</th>\n",
       "      <th>8</th>\n",
       "      <th>...</th>\n",
       "      <th>42</th>\n",
       "      <th>43</th>\n",
       "      <th>44</th>\n",
       "      <th>45</th>\n",
       "      <th>46</th>\n",
       "      <th>47</th>\n",
       "      <th>48</th>\n",
       "      <th>49</th>\n",
       "      <th>50</th>\n",
       "      <th>51</th>\n",
       "    </tr>\n",
       "  </thead>\n",
       "  <tbody>\n",
       "    <tr>\n",
       "      <th>0</th>\n",
       "      <td>0</td>\n",
       "      <td>2.541699</td>\n",
       "      <td>0.010003</td>\n",
       "      <td>0.597762</td>\n",
       "      <td>-0.853093</td>\n",
       "      <td>NaN</td>\n",
       "      <td>NaN</td>\n",
       "      <td>NaN</td>\n",
       "      <td>NaN</td>\n",
       "      <td>NaN</td>\n",
       "      <td>...</td>\n",
       "      <td>NaN</td>\n",
       "      <td>NaN</td>\n",
       "      <td>NaN</td>\n",
       "      <td>NaN</td>\n",
       "      <td>NaN</td>\n",
       "      <td>NaN</td>\n",
       "      <td>NaN</td>\n",
       "      <td>NaN</td>\n",
       "      <td>NaN</td>\n",
       "      <td>NaN</td>\n",
       "    </tr>\n",
       "    <tr>\n",
       "      <th>1</th>\n",
       "      <td>1</td>\n",
       "      <td>0.070934</td>\n",
       "      <td>-0.000469</td>\n",
       "      <td>-0.009370</td>\n",
       "      <td>0.044307</td>\n",
       "      <td>0.033283</td>\n",
       "      <td>0.1</td>\n",
       "      <td>0.003604</td>\n",
       "      <td>0.03637</td>\n",
       "      <td>0.027656</td>\n",
       "      <td>...</td>\n",
       "      <td>0.036213</td>\n",
       "      <td>0.00944</td>\n",
       "      <td>0.004039</td>\n",
       "      <td>1.942890e-16</td>\n",
       "      <td>0.033414</td>\n",
       "      <td>0.015584</td>\n",
       "      <td>0.026888</td>\n",
       "      <td>0.018149</td>\n",
       "      <td>0.026343</td>\n",
       "      <td>0.1</td>\n",
       "    </tr>\n",
       "  </tbody>\n",
       "</table>\n",
       "<p>2 rows × 53 columns</p>\n",
       "</div>"
      ],
      "text/plain": [
       "   Unnamed: 0         0         1         2         3         4    5  \\\n",
       "0           0  2.541699  0.010003  0.597762 -0.853093       NaN  NaN   \n",
       "1           1  0.070934 -0.000469 -0.009370  0.044307  0.033283  0.1   \n",
       "\n",
       "          6        7         8 ...         42       43        44  \\\n",
       "0       NaN      NaN       NaN ...        NaN      NaN       NaN   \n",
       "1  0.003604  0.03637  0.027656 ...   0.036213  0.00944  0.004039   \n",
       "\n",
       "             45        46        47        48        49        50   51  \n",
       "0           NaN       NaN       NaN       NaN       NaN       NaN  NaN  \n",
       "1  1.942890e-16  0.033414  0.015584  0.026888  0.018149  0.026343  0.1  \n",
       "\n",
       "[2 rows x 53 columns]"
      ]
     },
     "execution_count": 9,
     "metadata": {},
     "output_type": "execute_result"
    }
   ],
   "source": [
    "result"
   ]
  },
  {
   "cell_type": "code",
   "execution_count": 33,
   "metadata": {},
   "outputs": [
    {
     "data": {
      "text/plain": [
       "array([ 7.09339600e-02, -4.68750000e-04, -9.36950684e-03,  4.43071289e-02,\n",
       "        3.32830811e-02,  1.00000000e-01,  3.60351563e-03,  3.63703613e-02,\n",
       "        2.76562500e-02,  6.55792236e-02,  1.89382324e-02,  1.89224854e-02,\n",
       "        4.62030029e-02,  2.05886841e-02,  1.00000000e-01,  1.83295898e-02,\n",
       "        1.96582031e-02,  1.93332520e-02,  1.00000000e-01,  6.09082031e-03,\n",
       "        2.60888672e-02,  1.71875000e-02,  7.31979370e-02,  2.76386719e-02,\n",
       "        2.89160156e-02,  5.85910645e-02,  3.29687500e-02,  2.46093750e-04,\n",
       "       -1.02172852e-02,  4.64355469e-02,  1.97351074e-02,  3.95312500e-03,\n",
       "        1.87727051e-02,  2.36879883e-02, -9.04394531e-03,  8.40136719e-02,\n",
       "        3.51562500e-03,  3.21582947e-02,  5.38867188e-02,  2.62431641e-02,\n",
       "        3.37244873e-02,  8.01562500e-03,  3.62133789e-02,  9.43954468e-03,\n",
       "        4.03906250e-03,  1.94289029e-16,  3.34140625e-02,  1.55839844e-02,\n",
       "        2.68878784e-02,  1.81494141e-02,  2.63427734e-02,  1.00000000e-01])"
      ]
     },
     "execution_count": 33,
     "metadata": {},
     "output_type": "execute_result"
    }
   ],
   "source": [
    "vol = result.iloc[[1]]\n",
    "vol = vol.as_matrix()\n",
    "vol = vol[0]\n",
    "vol = vol[1:]\n",
    "vol"
   ]
  },
  {
   "cell_type": "code",
   "execution_count": 35,
   "metadata": {},
   "outputs": [
    {
     "data": {
      "text/plain": [
       "array([ 2.54169903,  0.01000332,  0.59776233, -0.85309296])"
      ]
     },
     "execution_count": 35,
     "metadata": {},
     "output_type": "execute_result"
    }
   ],
   "source": [
    "para = result.iloc[[0]]\n",
    "para = para.as_matrix()\n",
    "para = para[0]\n",
    "para = para[1:5]\n",
    "para"
   ]
  }
 ],
 "metadata": {
  "kernelspec": {
   "display_name": "Python 3",
   "language": "python",
   "name": "python3"
  },
  "language_info": {
   "codemirror_mode": {
    "name": "ipython",
    "version": 3
   },
   "file_extension": ".py",
   "mimetype": "text/x-python",
   "name": "python",
   "nbconvert_exporter": "python",
   "pygments_lexer": "ipython3",
   "version": "3.6.4"
  }
 },
 "nbformat": 4,
 "nbformat_minor": 2
}
